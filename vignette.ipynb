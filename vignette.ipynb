{
 "cells": [
  {
   "cell_type": "markdown",
   "metadata": {},
   "source": [
    "# Vignette (Outline)\n",
    "\n",
    "### Introduction\n",
    "This package enables users to get a sentiment analysis of any selected twitter user on their political sentiment (liberal vs. conservative)..."
   ]
  },
  {
   "cell_type": "markdown",
   "metadata": {},
   "source": [
    "### How to use the package\n",
    "The first step is to copy the repository from GitHub and run the main.py file in your terminal..."
   ]
  },
  {
   "cell_type": "code",
   "execution_count": null,
   "metadata": {},
   "outputs": [],
   "source": [
    "import twitter_nlp as tn\n",
    "..."
   ]
  },
  {
   "cell_type": "markdown",
   "metadata": {},
   "source": [
    "### Explanation of output"
   ]
  },
  {
   "cell_type": "markdown",
   "metadata": {},
   "source": [
    "#### Pie Chart\n",
    "Shows ratio of sentiments found in tweets."
   ]
  },
  {
   "cell_type": "markdown",
   "metadata": {},
   "source": [
    "#### Time Series Chart\n",
    "Shows sentiments of tweets over time. Uses adjusted probabilities regarding \"liberal\" or \"conservative\" sentiment "
   ]
  },
  {
   "cell_type": "markdown",
   "metadata": {},
   "source": [
    "#### WordCloud\n",
    "Most used words in the lasst 100 tweets"
   ]
  },
  {
   "cell_type": "markdown",
   "metadata": {},
   "source": [
    "### Under the hood\n",
    "#### How does the classifying work? \n",
    "Explaining classifier, pre-trained model, making aware of model code in repo"
   ]
  }
 ],
 "metadata": {
  "language_info": {
   "name": "python"
  },
  "orig_nbformat": 4
 },
 "nbformat": 4,
 "nbformat_minor": 2
}
